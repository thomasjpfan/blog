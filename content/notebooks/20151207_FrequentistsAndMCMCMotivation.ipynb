{
 "cells": [
  {
   "cell_type": "markdown",
   "metadata": {},
   "source": [
    "For this entry, I will be using the following python packages in this jupyter notebook:"
   ]
  },
  {
   "cell_type": "code",
   "execution_count": 1,
   "metadata": {
    "collapsed": true
   },
   "outputs": [],
   "source": [
    "%matplotlib inline\n",
    "\n",
    "import numpy as np\n",
    "import scipy as sp\n",
    "import scipy.stats as stats\n",
    "import scipy.optimize as opt\n",
    "import matplotlib.pyplot as plt\n",
    "import seaborn as sns\n",
    "sns.set_context(\"talk\")"
   ]
  },
  {
   "cell_type": "markdown",
   "metadata": {},
   "source": [
    "## The Problem"
   ]
  },
  {
   "cell_type": "markdown",
   "metadata": {},
   "source": [
    "You own a Halal food truck in NYC and want to know how much food you should have in stock for the afternoon rush. So between the hours of 11am to 3pm, you count how many patrons you get per hour. So at the end of a six months you have 720 counts of orders between 11am and 3pm. Here is the histogram you get from this data:"
   ]
  },
  {
   "cell_type": "markdown",
   "metadata": {},
   "source": [
    "### Here is a test of h3"
   ]
  },
  {
   "cell_type": "markdown",
   "metadata": {},
   "source": [
    "Hello there"
   ]
  },
  {
   "cell_type": "code",
   "execution_count": 2,
   "metadata": {
    "collapsed": false
   },
   "outputs": [
    {
     "data": {
      "image/png": "[encoded data removed]",
      "text/plain": [
       "<matplotlib.figure.Figure at 0x108a79710>"
      ]
     },
     "metadata": {},
     "output_type": "display_data"
    }
   ],
   "source": [
    "from scipy.stats import poisson, randint\n",
    "\n",
    "# generates counts with noise\n",
    "np.random.seed(42) \n",
    "mu = 42\n",
    "counts = poisson.rvs(mu, size=720) + randint.rvs(-3, 3)\n",
    "\n",
    "ax = sns.distplot(counts, kde=False, bins=40)\n",
    "ax.set_xlabel(\"bins\")\n",
    "ax.set_ylabel(\"count\")\n",
    "ax.set_title(\"Histogram of orders per hour\");"
   ]
  },
  {
   "cell_type": "markdown",
   "metadata": {},
   "source": [
    "## Modeling"
   ]
  },
  {
   "cell_type": "markdown",
   "metadata": {},
   "source": [
    "Looking at the histogram, the data seem skewed to the right and since we are dealing with count data, we can try to model the count data with a Possion distribution. The Possion distrubution is a fairly simple distribution with one parameter:\n",
    "\n",
    "$$\n",
    "p(x \\ | \\ \\mu) = \\frac{e^{-\\mu}\\mu^{x}} {x!} \\mbox{    for    }  x = 0, 1, 2, \\cdots\n",
    "$$\n",
    "\n",
    "where $\\mu$ is both the mean and the variance. For this problem, we'll assume that the mean is the same for each lunch hour."
   ]
  },
  {
   "cell_type": "markdown",
   "metadata": {},
   "source": [
    "## Frequentists Method of Estimating the Mean"
   ]
  },
  {
   "cell_type": "markdown",
   "metadata": {},
   "source": [
    "Since the patron counts are independent of each other, the probability of observing the 720 counts is a product of possion distributions:\n",
    "\n",
    "$$\n",
    "p(D \\ | \\ \\mu) = \\prod_{i=1}^{720}p(x_i \\ | \\ \\mu)\n",
    "$$\n",
    "\n",
    "where $D=\\{x_1,...,x_{720}\\}$ is the count data. Taking the log of this probability gives us the log-likelihood function:\n",
    "\n",
    "$$\n",
    "\\log(p(D \\ | \\ \\lambda)) = \\sum_{i=1}^{720}\\log\\left(p(x_i \\ | \\ \\mu)\\right)\n",
    "$$\n",
    "\n",
    "The goal is to find the mean, $\\mu$, that maximizes this function. This function can be written in python:"
   ]
  },
  {
   "cell_type": "code",
   "execution_count": 3,
   "metadata": {
    "collapsed": true
   },
   "outputs": [],
   "source": [
    "def poisson_loglikelihood(mu, data, sign=-1):\n",
    "    return sign*np.sum(stats.poisson.logpmf(data, mu=mu))"
   ]
  },
  {
   "cell_type": "markdown",
   "metadata": {},
   "source": [
    "Maximizing a function is the same as minimizing the negative of the function. The optimization function, `opt.minimize_scalar`, in scipy.optimize minimizes a function. The sign argument in `poisson_loglikelihood` provides a way to return the negative of the log-likelihood."
   ]
  },
  {
   "cell_type": "code",
   "execution_count": 4,
   "metadata": {
    "collapsed": false
   },
   "outputs": [
    {
     "name": "stdout",
     "output_type": "stream",
     "text": [
      "The estimated value of the mean is: 43.8444451819\n"
     ]
    }
   ],
   "source": [
    "from functools import partial\n",
    "\n",
    "# partial plugs in counts into poisson_loglikelihood\n",
    "# and returns a funtion that is only dependent on mu\n",
    "poisson_loglikelihood_partial = partial(poisson_loglikelihood, data=counts)\n",
    "freq_results = opt.minimize_scalar(poisson_loglikelihood_partial)\n",
    "freq_mean = freq_results['x']\n",
    "print(\"The estimated value of the mean is: %s\" % freq_mean)"
   ]
  },
  {
   "cell_type": "markdown",
   "metadata": {},
   "source": [
    "The frequentist approach gives us a point estimate of the mean of our counts. Since the model was a possion distribution, the variance is also equal to 43.84. Thus we conclude that underlying possion distrubution has a mean of 43.84 patrons and a standard deviation of 6.62 patrons. "
   ]
  },
  {
   "cell_type": "markdown",
   "metadata": {},
   "source": [
    "#### What does this mean?"
   ]
  },
  {
   "cell_type": "markdown",
   "metadata": {},
   "source": [
    "It tells us that if we were to continue making patrons counts, that number will most __frequently__ be between 37.22 and 50.46. In this case, this approach answers the business question of \"How much stock should I have for the next day?\""
   ]
  },
  {
   "cell_type": "markdown",
   "metadata": {},
   "source": [
    "## Another Problem (With the Same Values)"
   ]
  },
  {
   "cell_type": "markdown",
   "metadata": {},
   "source": [
    "You are a social butterfly and pride yourself on responding to your private messages really quickly. One day, you became curious of how fast you actually response to your loving friends, so you took the response times of your most recent 720 messages. From this data, you would like to figure out your __true__ response time.\n",
    "\n",
    "We will use the same exact data from the previous question, where response time is measured in seconds:"
   ]
  },
  {
   "cell_type": "code",
   "execution_count": 10,
   "metadata": {
    "collapsed": true
   },
   "outputs": [],
   "source": [
    "response_times = counts"
   ]
  },
  {
   "cell_type": "markdown",
   "metadata": {},
   "source": [
    "#### Can we use the result of the previous answer?"
   ]
  },
  {
   "cell_type": "markdown",
   "metadata": {},
   "source": [
    "__Nope__. The result from the previous analysis tells us that the next time we were to response to someone, it will most likely be in the range, 43.84 ± 6.62 seconds. This doesn't answer our question: \"What is our __true__ response time?\" We want to figure out something funadmental about ourselves, __not__ what would happen if we were to get another message."
   ]
  },
  {
   "cell_type": "markdown",
   "metadata": {},
   "source": [
    "## Bayesian Method of Estimating the Mean"
   ]
  },
  {
   "cell_type": "markdown",
   "metadata": {},
   "source": [
    "Before we do any modeling, you have an idea of what your response time is from your years of instant messaging. You say it should be a number between 30 and 90 seconds. Before touching the 720 data points, we believe that the response time is uniformly distributed between 30 and 90 seconds."
   ]
  },
  {
   "cell_type": "code",
   "execution_count": 5,
   "metadata": {
    "collapsed": false
   },
   "outputs": [
    {
     "data": {
      "image/png": "[encoded data removed]",
      "text/plain": [
       "<matplotlib.figure.Figure at 0x108ba0cc0>"
      ]
     },
     "metadata": {},
     "output_type": "display_data"
    }
   ],
   "source": [
    "# <!-- collapse=True -->\n",
    "x = np.linspace(0,120, 1000)\n",
    "y = stats.uniform.pdf(x, loc=30, scale=60)\n",
    "\n",
    "fig, ax = plt.subplots()\n",
    "ax.plot(x, y)\n",
    "ax.set_xlabel(\"response time (s)\")\n",
    "ax.set_ylabel(\"Probability\")\n",
    "ax.set_title(\"Prior Belief\")\n",
    "ax.set_xticks(np.arange(0,120,10));"
   ]
  },
  {
   "cell_type": "markdown",
   "metadata": {
    "collapsed": true
   },
   "source": [
    "Before we look at the 720 data points, $D$, we have a prior distrubution:\n",
    "\n",
    "$$\n",
    "p(\\mu) = U(30,90) = \n",
    "\\left\\{\n",
    "\t\\begin{array}{ll}\n",
    "\t\t1/60  & \\mbox{if } 30 \\leq x \\leq 90 \\\\\n",
    "\t\t0 & \\text{otherwise}\n",
    "\t\\end{array}\n",
    "\\right.\n",
    "$$\n",
    "\n",
    "where $U$ is the uniform distrubution. We want to figure out what happens to this distrubution after observing the 720 response times. This distrubution is called the posterior and represented as a conditional probability: $P(\\mu \\ | \\ D)$. We can get this probability by using Bayes Formula:\n",
    "\n",
    "$$\n",
    "\\overbrace{p(\\mu \\ |\\ D)}^{\\text{posterior}} = \\dfrac{\\overbrace{p(D \\ | \\ \\mu)}^{\\text{likelihood}} \\cdot \\overbrace{p(\\mu)}^{\\text{prior}}}{\\underbrace{p(D)}_{\\text{marginal likelihood}}}\n",
    "$$\n",
    "\n",
    "We already have the prior and the likelihood, $p(D \\ | \\ \\mu)$ is found in the previous section:\n",
    "\n",
    "$$\n",
    "p(D \\ | \\ \\mu) = \\prod_{i=1}^{720}p(x_i \\ | \\ \\mu)\n",
    "$$\n",
    "\n",
    "The only thing left to find is the marginal liklehood, $p(D)$:\n",
    "\n",
    "$$\n",
    "p(D) = \\int_{-\\infty}^\\infty p(D \\ | \\ \\mu)\\cdot p(\\mu) du\n",
    "$$\n",
    "\n",
    "Pluggin in our expressions for $p(D \\ | \\ \\mu)$ and $p(\\mu)$:\n",
    "\n",
    "$$\n",
    "\\begin{align*} \n",
    "p(D) &= \\frac{1}{60}\\int_{30}^{90}\\prod_{i=1}^{720}\\frac{e^{-\\mu}\\mu^{x_i}} {x_i!}du \\\\\n",
    "&= \\dfrac{1}{60}\\int_{30}^{90}\\prod_{i=1}^{720}\\frac{e^{-\\mu}\\mu^{x_i}} {x_i!}du \\\\\n",
    "&= \\dfrac{1}{60}\\prod_{i=1}^{720}\\frac{1} {x_i!}\\int_{30}^{90}e^{-\\mu}\\mu^{x_i}du\n",
    "\\end{align*}\n",
    "$$\n",
    "It turns out this integral does not have a closed form. If we plug in $\\{x_1,..,x_{720}\\}$, which are numbers, into this expression and integrate, $P(D)$ becomes just a number."
   ]
  },
  {
   "cell_type": "markdown",
   "metadata": {
    "collapsed": true
   },
   "source": [
    "#### What can we do about the marginal likelihood?"
   ]
  },
  {
   "cell_type": "markdown",
   "metadata": {},
   "source": [
    "There are basically two options:\n",
    "\n",
    "- Nummerical integration\n",
    "- Markov chain Monte Carlo\n",
    "\n",
    "__Nummerical integration__: Recall that $D=\\{x_1,..,x_{720}\\}$ are just a list of 720 numbers, so the integral above can be solved nummerically. This is fine for this case, but it does not scale well. If our model needed more parameters besides the mean, the integral would not be 1-D anymore. As we add more parameters, the harder the integral is to do.\n",
    "\n",
    "__Markov chain Monte Carlo__: A method to explore the parameter space without having to calculating the marginal likelihood. In this case, our parameter space is just the mean, $\\mu$. This method will be described in the following section."
   ]
  },
  {
   "cell_type": "markdown",
   "metadata": {},
   "source": [
    "## Markov chain Monte Carlo In Nutshell"
   ]
  },
  {
   "cell_type": "markdown",
   "metadata": {},
   "source": [
    "We believe that $\\mu$ is a number between 30 and 90 seconds. For this method, we'll pick $\\mu_{current}=40$ seconds to start off at. To get our next $\\mu$ to test, we can grab a number from a normal distrubution with $\\sigma=0.5$ centered around 0 and add it to $\\mu$:"
   ]
  },
  {
   "cell_type": "code",
   "execution_count": 17,
   "metadata": {
    "collapsed": false
   },
   "outputs": [
    {
     "name": "stdout",
     "output_type": "stream",
     "text": [
      "Proposed mu: 40.24835707650561\n"
     ]
    }
   ],
   "source": [
    "mu_current = 40\n",
    "sigma_proposal = 0.5\n",
    "\n",
    "np.random.seed(42)\n",
    "delta_mu = stats.norm.rvs(loc=0, scale=sigma_proposal)\n",
    "mu_proposal = mu_current + delta_mu\n",
    "print(\"Proposed mu:\", mu_proposal)"
   ]
  },
  {
   "cell_type": "markdown",
   "metadata": {},
   "source": [
    "Next we have to see if this proposed $\\mu$ is \"good enough\" to be our next mean."
   ]
  },
  {
   "cell_type": "markdown",
   "metadata": {},
   "source": [
    "#### How can we tell if the proposed mu is good enough?"
   ]
  },
  {
   "cell_type": "markdown",
   "metadata": {},
   "source": [
    "Lets give the proposed $\\mu$ a variable name: $\\mu_{proposal}=40.2484$ seconds. Let's look at the ratio of the posteriors between $\\mu_{proposal}$ and $\\mu_{current}$:\n",
    "\n",
    "$$\n",
    "\\begin{align*} \n",
    "r = \\frac{p(\\mu_{proposal} \\ | \\ D)}{p(\\mu_{current} \\ | \\ D)} &= \\frac{p(D \\ | \\ \\mu_{proposal})p(\\mu_{proposal})}{P(D)} \\Biggm/ \\frac{p(D \\ | \\ \\mu_{current})p(\\mu_{current})}{P(D)}\\\\\n",
    "&= p(D \\ | \\ \\mu_{proposal})p(\\mu_{proposal}) \\Bigm/ p(D \\ | \\ \\mu_{current})p(\\mu_{current})\n",
    "\\end{align*} \n",
    "$$\n",
    "\n",
    "where r is called the acceptance ratio. Notice how the denominator cancels out and out the prior and likelihood survives in the ratio. The likelihood, $p(D \\ | \\ mu)$, turns out to be really small, so it is a good idea to take the log of this ratio:\n",
    "\n",
    "$$\n",
    "\\begin{align*} \n",
    "\\log(r)\n",
    "&= \\log(p(D \\ | \\ \\mu_{proposal})p(\\mu_{proposal}))-\\log(p(D \\ | \\ \\mu_{current})p(\\mu_{current})) \\\\\n",
    "&= \\log(p(D \\ | \\ \\mu_{proposal}))-\\log(p(D \\ | \\ \\mu_{current})) + \\log(p(\\mu_{proposal}))-\\log(\\mu_{current})) \n",
    "\\end{align*}\n",
    "$$\n",
    "\n",
    "Let's define this log acceptance ratio function in python:"
   ]
  },
  {
   "cell_type": "code",
   "execution_count": 18,
   "metadata": {
    "collapsed": false
   },
   "outputs": [],
   "source": [
    "# log(p(mu))\n",
    "def log_prior(mu):\n",
    "    return stats.uniform.logpdf(mu, loc=30, scale=60)\n",
    "\n",
    "def log_acceptance_ratio(mu_proposal, mu_current, response_times):\n",
    "    return poisson_loglikelihood(mu_proposal, response_times)\\\n",
    "         - poisson_loglikelihood(mu_current, response_times)\\\n",
    "         + log_prior(mu_proposal) - log_prior(mu_current)"
   ]
  },
  {
   "cell_type": "markdown",
   "metadata": {},
   "source": [
    "There are two possible outcomes for the log acceptance ratio:\n",
    "\n",
    "- __r > 0__ : $\\mu_{proposal}$ is more probable then $\\mu_{current}$, so $\\mu_{proposal}$ would become our next $\\mu_{current}$.\n",
    "\n",
    "- __r <= 0__ : $\\mu_{proposal}$ is less probable then $\\mu_{current}$, so we'll stay at $\\mu_{current}$ 50% of the time."
   ]
  },
  {
   "cell_type": "markdown",
   "metadata": {},
   "source": [
    "#### Why stay at the current mean 50% of the time and not 100%?"
   ]
  },
  {
   "cell_type": "markdown",
   "metadata": {},
   "source": [
    "It is possible that traveling to the proposal mean may guide us to a mean that is more probable than the current mean, after a few more iterations of this algorithm."
   ]
  },
  {
   "cell_type": "markdown",
   "metadata": {},
   "source": [
    "For our step, we will calculate the log acceptance ratio:"
   ]
  },
  {
   "cell_type": "code",
   "execution_count": 19,
   "metadata": {
    "collapsed": false
   },
   "outputs": [
    {
     "name": "stdout",
     "output_type": "stream",
     "text": [
      "log(r) = -16.5803313102\n"
     ]
    }
   ],
   "source": [
    "log_r = log_acceptance_ratio(mu_proposal, mu_current, response_times)\n",
    "print(\"log(r) =\", log_r)"
   ]
  },
  {
   "cell_type": "markdown",
   "metadata": {
    "collapsed": true
   },
   "source": [
    "Since $\\log(r) <= 0$, we will stay at $\\mu_{current}$ 50% of the time and move to $\\mu_{proposal}$ 50% of the time. Let's write this logic into a python function:"
   ]
  },
  {
   "cell_type": "code",
   "execution_count": 20,
   "metadata": {
    "collapsed": true
   },
   "outputs": [],
   "source": [
    "def move(log_r):\n",
    "    # always move when r >0\n",
    "    if log_r > 0:\n",
    "        return True\n",
    "    else:\n",
    "        # pick number between 0 and 1\n",
    "        # move if it's bigger than 0.5\n",
    "        return stats.uniform.rvs() > 0.5"
   ]
  },
  {
   "cell_type": "markdown",
   "metadata": {},
   "source": [
    "And use this function for our $\\log(r)$:"
   ]
  },
  {
   "cell_type": "code",
   "execution_count": 21,
   "metadata": {
    "collapsed": false
   },
   "outputs": [
    {
     "data": {
      "text/plain": [
       "True"
      ]
     },
     "execution_count": 21,
     "metadata": {},
     "output_type": "execute_result"
    }
   ],
   "source": [
    "move(log_r)"
   ]
  },
  {
   "cell_type": "markdown",
   "metadata": {},
   "source": [
    "In this case, we will move to $\\mu_{proposal}$, so our new $\\mu_{current}$ will be 40.2484. After moving or staying, we will record the current mean. Then we'll repeat the whole process, by choosing another $\\mu_{proposal}$. Since we are recording the new mean regardless of if we moved or not we may have a record that looks like this:\n",
    "\n",
    "1. 40.0000\n",
    "2. 40.2484\n",
    "3. 40.2484\n",
    "4. 40.2484\n",
    "5. 40.3134\n",
    "\n",
    "Notice how the 40.2484 is repeated 3 times between steps 2, 3, and 4. This means we have not moved from that spot three times."
   ]
  }
 ],
 "metadata": {
  "kernelspec": {
   "display_name": "Python 3",
   "language": "python",
   "name": "python3"
  },
  "language_info": {
   "codemirror_mode": {
    "name": "ipython",
    "version": 3
   },
   "file_extension": ".py",
   "mimetype": "text/x-python",
   "name": "python",
   "nbconvert_exporter": "python",
   "pygments_lexer": "ipython3",
   "version": "3.5.1"
  }
 },
 "nbformat": 4,
 "nbformat_minor": 0
}
